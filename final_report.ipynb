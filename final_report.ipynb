{
 "cells": [
  {
   "cell_type": "markdown",
   "id": "891c928b-41fa-4115-8e0f-cb6734598864",
   "metadata": {
    "tags": []
   },
   "source": [
    "# Telco Churn Analysis\n",
    "This data science project aims to identify the root causes of customer departures and develop a predictive model to assist in mitigating churn risk."
   ]
  },
  {
   "cell_type": "markdown",
   "id": "02490d7f-c2c2-48ff-8ece-f7895b2c318d",
   "metadata": {
    "tags": []
   },
   "source": [
    "## <ins>Imports</ins>"
   ]
  },
  {
   "cell_type": "code",
   "execution_count": 1,
   "id": "f190c533-8906-4450-a414-1520733ec366",
   "metadata": {
    "tags": []
   },
   "outputs": [],
   "source": [
    "import acquire as a\n",
    "import prepare as p\n",
    "import explore as e\n",
    "import model as m\n",
    "\n",
    "import numpy as np\n",
    "import pandas as pd"
   ]
  },
  {
   "cell_type": "markdown",
   "id": "8a94bf55-0428-4afe-9e6c-b167104777e6",
   "metadata": {
    "tags": []
   },
   "source": [
    "## <ins>Acquire</ins>"
   ]
  },
  {
   "cell_type": "markdown",
   "id": "d89f1e17-1d51-447f-a914-6e69a43acd9f",
   "metadata": {},
   "source": [
    "* In the Acquire phase, we obtained the data from the Codeup MySQL database `telco_churn`.\n",
    "* The dataset is comprised of 7,043 rows and 22 columns.\n",
    "* Every row corresponds to a distinct Telco customer & each column signifies a specific customer attribute."
   ]
  },
  {
   "cell_type": "code",
   "execution_count": 2,
   "id": "13898026-d67b-44e7-8d7c-7d3bdb7ed3e9",
   "metadata": {
    "tags": []
   },
   "outputs": [],
   "source": [
    "# Acquiring data using acquire_data() from acquire.py\n",
    "# Assigning the result to the variable 'df'\n",
    "\n",
    "df = a.acquire_data()"
   ]
  },
  {
   "cell_type": "markdown",
   "id": "97fcfee4-af46-41e7-98b4-fdd93c7fc88a",
   "metadata": {
    "tags": []
   },
   "source": [
    "## <ins>Prepare</ins>"
   ]
  },
  {
   "cell_type": "markdown",
   "id": "d70d3ddc-ff5b-4d4f-8a9b-f616b1cae500",
   "metadata": {},
   "source": [
    "* Remove duplicate columns (`payment_type_id`, `internet_service_type_id`, `contract_type_id`) as the same data is available elsewhere.\n",
    "* Introduce `internet_service` column to signify customer subscription to internet service.\n",
    "* Adjust values and datatypes:\n",
    "    * Convert `senior_citizen` values from '1 or 0' to 'Yes or No'.\n",
    "    * Convert `churn values` from 'Yes or No' to '1 or 0'.\n",
    "    * Fill null values in `internet_service_type` with 'No internet service'.\n",
    "    * Convert `total_charges` values to float.\n",
    "* Set the index to `customer_id` for unique identification.\n",
    "* Split data into three dataframes based on `churn`:\n",
    "    * Train (60% of the original dataframe)\n",
    "    * Validate (20% of the original dataframe)\n",
    "    * Test (20% of the original dataframe)\n",
    "* Retain all data points; no outliers have been removed."
   ]
  },
  {
   "cell_type": "code",
   "execution_count": 3,
   "id": "e171abb7-1491-44ef-a401-b34864f6a14a",
   "metadata": {
    "tags": []
   },
   "outputs": [],
   "source": [
    "# Calling prepare_data() from prepare.py to process and modify the DataFrame 'df'\n",
    "# Assigning back to the variable 'df'\n",
    "\n",
    "df = p.prepare_data(df)"
   ]
  },
  {
   "cell_type": "code",
   "execution_count": 4,
   "id": "1a03befb-ab43-4d0d-88c3-15c30a0853bf",
   "metadata": {
    "tags": []
   },
   "outputs": [],
   "source": [
    "# Splitting the DataFrame 'df' into training, validation, and test sets using the 'churn' column for stratification\n",
    "# The resulting subsets are assigned to variables 'train', 'validate', and 'test'\n",
    "\n",
    "train, validate, test = p.split_data(df,'churn')"
   ]
  },
  {
   "cell_type": "code",
   "execution_count": 5,
   "id": "2e53f1f6-c925-4927-8556-fc15aa49befa",
   "metadata": {
    "tags": []
   },
   "outputs": [
    {
     "data": {
      "text/html": [
       "<div>\n",
       "<style scoped>\n",
       "    .dataframe tbody tr th:only-of-type {\n",
       "        vertical-align: middle;\n",
       "    }\n",
       "\n",
       "    .dataframe tbody tr th {\n",
       "        vertical-align: top;\n",
       "    }\n",
       "\n",
       "    .dataframe thead th {\n",
       "        text-align: right;\n",
       "    }\n",
       "</style>\n",
       "<table border=\"1\" class=\"dataframe\">\n",
       "  <thead>\n",
       "    <tr style=\"text-align: right;\">\n",
       "      <th></th>\n",
       "      <th>gender</th>\n",
       "      <th>senior_citizen</th>\n",
       "      <th>partner</th>\n",
       "      <th>dependents</th>\n",
       "      <th>tenure</th>\n",
       "      <th>phone_service</th>\n",
       "      <th>multiple_lines</th>\n",
       "      <th>internet_service</th>\n",
       "      <th>online_security</th>\n",
       "      <th>online_backup</th>\n",
       "      <th>...</th>\n",
       "      <th>tech_support</th>\n",
       "      <th>streaming_tv</th>\n",
       "      <th>streaming_movies</th>\n",
       "      <th>paperless_billing</th>\n",
       "      <th>monthly_charges</th>\n",
       "      <th>total_charges</th>\n",
       "      <th>churn</th>\n",
       "      <th>contract_type</th>\n",
       "      <th>internet_service_type</th>\n",
       "      <th>payment_type</th>\n",
       "    </tr>\n",
       "    <tr>\n",
       "      <th>customer_id</th>\n",
       "      <th></th>\n",
       "      <th></th>\n",
       "      <th></th>\n",
       "      <th></th>\n",
       "      <th></th>\n",
       "      <th></th>\n",
       "      <th></th>\n",
       "      <th></th>\n",
       "      <th></th>\n",
       "      <th></th>\n",
       "      <th></th>\n",
       "      <th></th>\n",
       "      <th></th>\n",
       "      <th></th>\n",
       "      <th></th>\n",
       "      <th></th>\n",
       "      <th></th>\n",
       "      <th></th>\n",
       "      <th></th>\n",
       "      <th></th>\n",
       "      <th></th>\n",
       "    </tr>\n",
       "  </thead>\n",
       "  <tbody>\n",
       "    <tr>\n",
       "      <th>2262-SLNVK</th>\n",
       "      <td>Female</td>\n",
       "      <td>No</td>\n",
       "      <td>No</td>\n",
       "      <td>No</td>\n",
       "      <td>1</td>\n",
       "      <td>Yes</td>\n",
       "      <td>No</td>\n",
       "      <td>Yes</td>\n",
       "      <td>No</td>\n",
       "      <td>No</td>\n",
       "      <td>...</td>\n",
       "      <td>No</td>\n",
       "      <td>No</td>\n",
       "      <td>No</td>\n",
       "      <td>No</td>\n",
       "      <td>70.10</td>\n",
       "      <td>70.10</td>\n",
       "      <td>0</td>\n",
       "      <td>Month-to-month</td>\n",
       "      <td>Fiber optic</td>\n",
       "      <td>Electronic check</td>\n",
       "    </tr>\n",
       "    <tr>\n",
       "      <th>0404-AHASP</th>\n",
       "      <td>Male</td>\n",
       "      <td>No</td>\n",
       "      <td>Yes</td>\n",
       "      <td>No</td>\n",
       "      <td>72</td>\n",
       "      <td>Yes</td>\n",
       "      <td>No</td>\n",
       "      <td>No</td>\n",
       "      <td>No internet service</td>\n",
       "      <td>No internet service</td>\n",
       "      <td>...</td>\n",
       "      <td>No internet service</td>\n",
       "      <td>No internet service</td>\n",
       "      <td>No internet service</td>\n",
       "      <td>No</td>\n",
       "      <td>19.70</td>\n",
       "      <td>1421.90</td>\n",
       "      <td>0</td>\n",
       "      <td>Two year</td>\n",
       "      <td>No internet service</td>\n",
       "      <td>Credit card (automatic)</td>\n",
       "    </tr>\n",
       "    <tr>\n",
       "      <th>7767-UXAGJ</th>\n",
       "      <td>Male</td>\n",
       "      <td>No</td>\n",
       "      <td>No</td>\n",
       "      <td>No</td>\n",
       "      <td>1</td>\n",
       "      <td>Yes</td>\n",
       "      <td>Yes</td>\n",
       "      <td>Yes</td>\n",
       "      <td>No</td>\n",
       "      <td>No</td>\n",
       "      <td>...</td>\n",
       "      <td>No</td>\n",
       "      <td>No</td>\n",
       "      <td>No</td>\n",
       "      <td>Yes</td>\n",
       "      <td>50.45</td>\n",
       "      <td>50.45</td>\n",
       "      <td>1</td>\n",
       "      <td>Month-to-month</td>\n",
       "      <td>DSL</td>\n",
       "      <td>Electronic check</td>\n",
       "    </tr>\n",
       "    <tr>\n",
       "      <th>0603-OLQDC</th>\n",
       "      <td>Male</td>\n",
       "      <td>No</td>\n",
       "      <td>No</td>\n",
       "      <td>Yes</td>\n",
       "      <td>12</td>\n",
       "      <td>Yes</td>\n",
       "      <td>No</td>\n",
       "      <td>Yes</td>\n",
       "      <td>Yes</td>\n",
       "      <td>No</td>\n",
       "      <td>...</td>\n",
       "      <td>No</td>\n",
       "      <td>Yes</td>\n",
       "      <td>Yes</td>\n",
       "      <td>Yes</td>\n",
       "      <td>69.85</td>\n",
       "      <td>837.50</td>\n",
       "      <td>0</td>\n",
       "      <td>Month-to-month</td>\n",
       "      <td>DSL</td>\n",
       "      <td>Mailed check</td>\n",
       "    </tr>\n",
       "    <tr>\n",
       "      <th>5480-HPRRX</th>\n",
       "      <td>Female</td>\n",
       "      <td>Yes</td>\n",
       "      <td>No</td>\n",
       "      <td>No</td>\n",
       "      <td>3</td>\n",
       "      <td>No</td>\n",
       "      <td>No phone service</td>\n",
       "      <td>Yes</td>\n",
       "      <td>No</td>\n",
       "      <td>No</td>\n",
       "      <td>...</td>\n",
       "      <td>No</td>\n",
       "      <td>No</td>\n",
       "      <td>No</td>\n",
       "      <td>No</td>\n",
       "      <td>25.30</td>\n",
       "      <td>77.75</td>\n",
       "      <td>1</td>\n",
       "      <td>Month-to-month</td>\n",
       "      <td>DSL</td>\n",
       "      <td>Electronic check</td>\n",
       "    </tr>\n",
       "  </tbody>\n",
       "</table>\n",
       "<p>5 rows × 21 columns</p>\n",
       "</div>"
      ],
      "text/plain": [
       "             gender senior_citizen partner dependents  tenure phone_service  \\\n",
       "customer_id                                                                   \n",
       "2262-SLNVK   Female             No      No         No       1           Yes   \n",
       "0404-AHASP     Male             No     Yes         No      72           Yes   \n",
       "7767-UXAGJ     Male             No      No         No       1           Yes   \n",
       "0603-OLQDC     Male             No      No        Yes      12           Yes   \n",
       "5480-HPRRX   Female            Yes      No         No       3            No   \n",
       "\n",
       "               multiple_lines internet_service      online_security  \\\n",
       "customer_id                                                           \n",
       "2262-SLNVK                 No              Yes                   No   \n",
       "0404-AHASP                 No               No  No internet service   \n",
       "7767-UXAGJ                Yes              Yes                   No   \n",
       "0603-OLQDC                 No              Yes                  Yes   \n",
       "5480-HPRRX   No phone service              Yes                   No   \n",
       "\n",
       "                   online_backup  ...         tech_support  \\\n",
       "customer_id                       ...                        \n",
       "2262-SLNVK                    No  ...                   No   \n",
       "0404-AHASP   No internet service  ...  No internet service   \n",
       "7767-UXAGJ                    No  ...                   No   \n",
       "0603-OLQDC                    No  ...                   No   \n",
       "5480-HPRRX                    No  ...                   No   \n",
       "\n",
       "                    streaming_tv     streaming_movies paperless_billing  \\\n",
       "customer_id                                                               \n",
       "2262-SLNVK                    No                   No                No   \n",
       "0404-AHASP   No internet service  No internet service                No   \n",
       "7767-UXAGJ                    No                   No               Yes   \n",
       "0603-OLQDC                   Yes                  Yes               Yes   \n",
       "5480-HPRRX                    No                   No                No   \n",
       "\n",
       "            monthly_charges  total_charges  churn   contract_type  \\\n",
       "customer_id                                                         \n",
       "2262-SLNVK            70.10          70.10      0  Month-to-month   \n",
       "0404-AHASP            19.70        1421.90      0        Two year   \n",
       "7767-UXAGJ            50.45          50.45      1  Month-to-month   \n",
       "0603-OLQDC            69.85         837.50      0  Month-to-month   \n",
       "5480-HPRRX            25.30          77.75      1  Month-to-month   \n",
       "\n",
       "            internet_service_type             payment_type  \n",
       "customer_id                                                 \n",
       "2262-SLNVK            Fiber optic         Electronic check  \n",
       "0404-AHASP    No internet service  Credit card (automatic)  \n",
       "7767-UXAGJ                    DSL         Electronic check  \n",
       "0603-OLQDC                    DSL             Mailed check  \n",
       "5480-HPRRX                    DSL         Electronic check  \n",
       "\n",
       "[5 rows x 21 columns]"
      ]
     },
     "execution_count": 5,
     "metadata": {},
     "output_type": "execute_result"
    }
   ],
   "source": [
    "# Displaying a few rows of the 'train' DataFrame for a quick glimpse\n",
    "\n",
    "train.tail(5)"
   ]
  },
  {
   "cell_type": "markdown",
   "id": "3e3ac82f-b551-4c0b-a0ef-0c218de10159",
   "metadata": {
    "tags": []
   },
   "source": [
    "## <ins>Exploratory Analysis</ins>"
   ]
  },
  {
   "cell_type": "markdown",
   "id": "0aa33846-4f6e-45bc-a6cf-34b961fdb3d4",
   "metadata": {},
   "source": [
    "During the exploration phase, we address the following questions:\n",
    "\n",
    "* How often are customers churning\n",
    "* What is the influence of tenure on the churn rate?\n",
    "* How does the monthly charges amount correlate with the churn rate?\n",
    "* What impact does the contract type have on the churn rate?\n",
    "\n",
    "By examining these aspects, we aim to gain insights into the patterns and factors contributing to customer churn within our dataset."
   ]
  },
  {
   "cell_type": "markdown",
   "id": "3762e863-c9c2-4ca8-8601-112fbfd3ed98",
   "metadata": {
    "tags": []
   },
   "source": [
    "### How often do customers churn?"
   ]
  },
  {
   "cell_type": "code",
   "execution_count": 6,
   "id": "24739dce-aa7a-47e5-b348-afdc8f8d6616",
   "metadata": {
    "tags": []
   },
   "outputs": [
    {
     "data": {
      "image/png": "[encoded data removed]",
      "text/plain": [
       "<Figure size 600x600 with 1 Axes>"
      ]
     },
     "metadata": {},
     "output_type": "display_data"
    }
   ],
   "source": [
    "# Creating a pie chart visualization of churn distribution using pie_churn() from explore.py\n",
    "\n",
    "e.pie_churn(train)"
   ]
  },
  {
   "cell_type": "markdown",
   "id": "88f101aa-7420-42af-8ba3-ae66e3f76968",
   "metadata": {},
   "source": [
    "> When using the training data, we observe a churn rate of 26.53%."
   ]
  },
  {
   "cell_type": "markdown",
   "id": "ba39513d-5a51-4c91-a773-161faf7ee37e",
   "metadata": {
    "tags": []
   },
   "source": [
    "### What is the influence of tenure on the churn rate?"
   ]
  },
  {
   "cell_type": "markdown",
   "id": "d76a1826-e546-4735-8dfc-6fd8e7727a33",
   "metadata": {
    "tags": []
   },
   "source": [
    "Hypotheses:\n",
    "> $H_0$: There is NO relationship between tenure and the churn rate.\n",
    "\n",
    "> $H_a$: There IS a relationship between tenure and the churn rate.\n",
    "\n",
    "Significance Level:\n",
    "> Confidence Interval: 95%\n",
    "\n",
    "> Alpha (Significance Level): 0.05\n",
    "\n",
    "Methodology:\n",
    ">To compare the non-normally distributed continuous variable (tenure) with the categorical variable (churn rate), we will employ the Mann-Whitney test. "
   ]
  },
  {
   "cell_type": "code",
   "execution_count": 7,
   "id": "f1e954ea-c2d0-4314-98d2-9e965d93b09d",
   "metadata": {
    "tags": []
   },
   "outputs": [
    {
     "name": "stdout",
     "output_type": "stream",
     "text": [
      "p-value: 0.0000\n",
      "There IS a relationship between tenure & churn rate!\n"
     ]
    }
   ],
   "source": [
    "# Performing Mann-Whitney test on the 'tenure' & 'churn' variables using mann_whitney_tenure() from explore.py\n",
    "\n",
    "e.mann_whitney_tenure(train)"
   ]
  },
  {
   "cell_type": "markdown",
   "id": "275c261f-68ab-4b19-bb20-f677c39f83c3",
   "metadata": {},
   "source": [
    "Visualization:"
   ]
  },
  {
   "cell_type": "code",
   "execution_count": 8,
   "id": "d1691f20-f779-4104-8e84-f09d36c12e46",
   "metadata": {
    "tags": []
   },
   "outputs": [
    {
     "data": {
      "image/png": "[encoded data removed]",
      "text/plain": [
       "<Figure size 600x600 with 1 Axes>"
      ]
     },
     "metadata": {},
     "output_type": "display_data"
    }
   ],
   "source": [
    "# Creating a bar chart visualization for the 'tenure' variable using bar_tenure() from explore.py\n",
    "\n",
    "e.bar_tenure(train)"
   ]
  },
  {
   "cell_type": "markdown",
   "id": "a131c020-2297-40b0-8fa8-4689094f3349",
   "metadata": {
    "tags": []
   },
   "source": [
    "> On average, active customers have a higher tenure, while churned customers exhibit lower tenure, supporting the hypothesis that tenure DOES influence the churn rate."
   ]
  },
  {
   "cell_type": "markdown",
   "id": "7c3cb162-b10b-46bd-9465-ed9725f2fab8",
   "metadata": {
    "tags": []
   },
   "source": [
    "### How does the monthly charges amount correlate with the churn rate?"
   ]
  },
  {
   "cell_type": "markdown",
   "id": "61904275-740b-4ad2-a6c3-c8fd326448d1",
   "metadata": {
    "tags": []
   },
   "source": [
    "Hypotheses:\n",
    "> $H_0$: There is NO relationship between monthly charges and the churn rate.\n",
    "\n",
    "> $H_a$: There IS a relationship between monthly charges and the churn rate.\n",
    "\n",
    "Significance Level:\n",
    "> Confidence Interval: 95%\n",
    "\n",
    "> Alpha (Significance Level): 0.05\n",
    "\n",
    "Methodology:\n",
    ">To compare the non-normally distributed continuous variable (monthly charges) with the categorical variable (churn rate), we will employ the Mann-Whitney test. "
   ]
  },
  {
   "cell_type": "code",
   "execution_count": 9,
   "id": "6f3cac54-b944-4682-94ee-f40e3226a0c0",
   "metadata": {
    "tags": []
   },
   "outputs": [
    {
     "name": "stdout",
     "output_type": "stream",
     "text": [
      "p-value: 0.000000\n",
      "There IS a relationship between monthly_charges & churn rate!\n"
     ]
    }
   ],
   "source": [
    "# Performing Mann-Whitney test on the 'monthly_charges' & 'churn' variables using mann_whitney_tenure() from explore.py\n",
    "\n",
    "e.mann_whitney_monthly_charges(train)"
   ]
  },
  {
   "cell_type": "markdown",
   "id": "bfd7fcb7-05ff-47ae-84aa-211978036513",
   "metadata": {},
   "source": [
    "Visualization:"
   ]
  },
  {
   "cell_type": "code",
   "execution_count": 10,
   "id": "dbb899d0-3fff-427e-8319-3901e0bd50ac",
   "metadata": {
    "tags": []
   },
   "outputs": [
    {
     "data": {
      "image/png": "[encoded data removed]",
      "text/plain": [
       "<Figure size 600x600 with 1 Axes>"
      ]
     },
     "metadata": {},
     "output_type": "display_data"
    }
   ],
   "source": [
    "# Creating a bar chart visualization for the 'monthly_charges' variable using bar_monthly_charges() from explore.py\n",
    "\n",
    "e.bar_monthly_charges(train)"
   ]
  },
  {
   "cell_type": "markdown",
   "id": "2e7c1da2-79ea-411f-90f4-5a831da7f770",
   "metadata": {},
   "source": [
    "> On average, active customers have lower monthly charges while churned customers exhibit higher monthly charges, supporting the hypothesis that monthly charges DO influence the churn rate."
   ]
  },
  {
   "cell_type": "markdown",
   "id": "e43b24ad-a966-4dbf-aabf-6d83311faa33",
   "metadata": {},
   "source": [
    "### What impact does the contract type have on the churn rate?"
   ]
  },
  {
   "cell_type": "markdown",
   "id": "029b51d9-7037-42a3-81bb-f1f7a76ccd0a",
   "metadata": {
    "tags": []
   },
   "source": [
    "Hypotheses:\n",
    "> $H_0$: There is NO relationship between contract_type & churn rate\n",
    "\n",
    "> $H_a$: There IS a relationship between contract_type & churn rate\n",
    "\n",
    "Significance Level:\n",
    "> Confidence Interval: 95%\n",
    "\n",
    "> Alpha (Significance Level): 0.05\n",
    "\n",
    "Methodology:\n",
    ">To compare two categorical variables (contract_type & churn), we will employ the $χ^2$ test. "
   ]
  },
  {
   "cell_type": "code",
   "execution_count": 11,
   "id": "e05387f0-43cb-4ee5-b03a-51b259e3396e",
   "metadata": {
    "tags": []
   },
   "outputs": [
    {
     "name": "stdout",
     "output_type": "stream",
     "text": [
      "p-value: 0.0000\n",
      "There IS a relationship between contract_type & churn rate!\n"
     ]
    }
   ],
   "source": [
    "# Performing chi2 test on the 'contract_type' & 'churn' variables using chi_squared_contract_type() from explore.py\n",
    "\n",
    "e.chi_squared_contract_type(train)"
   ]
  },
  {
   "cell_type": "markdown",
   "id": "0a361e6b-2c25-4121-b7e7-79946717f8de",
   "metadata": {},
   "source": [
    "Visualization:"
   ]
  },
  {
   "cell_type": "code",
   "execution_count": 12,
   "id": "23a73c99-6173-4d5a-a418-1bb34656eac5",
   "metadata": {
    "tags": []
   },
   "outputs": [
    {
     "data": {
      "image/png": "[encoded data removed]",
      "text/plain": [
       "<Figure size 1800x600 with 3 Axes>"
      ]
     },
     "metadata": {},
     "output_type": "display_data"
    }
   ],
   "source": [
    "# Creating a pie chart visualization for churn distribution by contract type\n",
    "# Using the pie_churn_by_contract_type() method from explore.py\n",
    "\n",
    "e.pie_churn_by_contract_type(train)"
   ]
  },
  {
   "cell_type": "markdown",
   "id": "902d6931-0fb8-469f-825c-0c28c483c2f6",
   "metadata": {},
   "source": [
    "> Customers with month-to-month contracts exhibit a significantly higher churn rate compared to those with longer-term contracts, supporting the hypothesis that contract types DO influence churn rate."
   ]
  },
  {
   "cell_type": "markdown",
   "id": "eb81ac54-faae-4415-8974-f17358f655d8",
   "metadata": {},
   "source": [
    "### Summary:\n",
    "Confirmed influences of tenure, monthly charges, and contract types on customer churn will guide predictive model development, enhancing our understanding and prediction of churn in the modeling phase."
   ]
  },
  {
   "cell_type": "markdown",
   "id": "573922ae-aca8-4bbc-88f9-383e02478d22",
   "metadata": {
    "tags": []
   },
   "source": [
    "## <ins>Model</ins>"
   ]
  },
  {
   "cell_type": "markdown",
   "id": "16f03a8b-3dba-47f1-a86a-2d819dc5ca5f",
   "metadata": {
    "tags": []
   },
   "source": [
    "### Preprocessing"
   ]
  },
  {
   "cell_type": "markdown",
   "id": "9a6f76cb-8d66-4093-a4fe-9d713b85c6d1",
   "metadata": {},
   "source": [
    "* replaced `No phone service` with `No` from `multiple_lines` (this info is in the `phone_service` column)\n",
    "* replaced `No internet service` with `No` from: (this info is in the `internet_service` column)\n",
    "    * `online_security`\n",
    "    * `online_backup`\n",
    "    * `device_protection`\n",
    "    * `tech_support`\n",
    "    * `streaming_tv`\n",
    "    * `streaming_movie`\n",
    "* encoded our train, validate, test dfs for our categorical columns"
   ]
  },
  {
   "cell_type": "code",
   "execution_count": 13,
   "id": "3f161342-ec6f-4736-ad63-0e84b6f032ce",
   "metadata": {
    "tags": []
   },
   "outputs": [],
   "source": [
    "# Preprocessing the train, validate, and test DataFrames using preprocess() from model.py\n",
    "\n",
    "train, validate, test = m.preprocess(train, validate, test)"
   ]
  },
  {
   "cell_type": "markdown",
   "id": "24ecfd3d-e154-4756-b489-f7c732c80e63",
   "metadata": {
    "tags": []
   },
   "source": [
    "### Baseline Accuracy"
   ]
  },
  {
   "cell_type": "code",
   "execution_count": 14,
   "id": "ded29d63-7bf9-4b95-8fe3-d4e3388e22d6",
   "metadata": {
    "tags": []
   },
   "outputs": [
    {
     "data": {
      "text/plain": [
       "0.7346745562130177"
      ]
     },
     "execution_count": 14,
     "metadata": {},
     "output_type": "execute_result"
    }
   ],
   "source": [
    "# Baseline accuracy is obtained by subtracting the mean of 'churn' from 1\n",
    "\n",
    "1-train.churn.mean()"
   ]
  },
  {
   "cell_type": "markdown",
   "id": "35f12e6d-d775-4549-a7c2-5d9370c22c07",
   "metadata": {
    "tags": []
   },
   "source": [
    "### Decision Tree"
   ]
  },
  {
   "cell_type": "code",
   "execution_count": 15,
   "id": "042c6336-daaa-4dd7-823e-87dba63d344e",
   "metadata": {
    "tags": []
   },
   "outputs": [
    {
     "name": "stdout",
     "output_type": "stream",
     "text": [
      "Train Accuracy: 0.7957\n",
      "Validate Accuracy: 0.7935\n"
     ]
    }
   ],
   "source": [
    "# Call decision_tree() and store the test accuracy in 'test_acc_dt'\n",
    "\n",
    "test_acc_dt = m.decision_tree(train,validate,test)"
   ]
  },
  {
   "cell_type": "markdown",
   "id": "fadca50d-3805-4321-9b73-2a0f93aaec66",
   "metadata": {},
   "source": [
    "### Random Forest"
   ]
  },
  {
   "cell_type": "code",
   "execution_count": 16,
   "id": "a6d60993-85d9-4743-a5bf-8dccd9dc5bbb",
   "metadata": {
    "tags": []
   },
   "outputs": [
    {
     "name": "stdout",
     "output_type": "stream",
     "text": [
      "Train Accuracy: 0.7915\n",
      "Validate Accuracy: 0.7984\n"
     ]
    }
   ],
   "source": [
    "# Call random_forest() and store the test accuracy in 'test_acc_rf'\n",
    "\n",
    "test_acc_rf = m.random_forest(train, validate, test)"
   ]
  },
  {
   "cell_type": "markdown",
   "id": "aa4c4622-94d4-4b38-8f80-4ec8c35dd780",
   "metadata": {},
   "source": [
    "### KNN "
   ]
  },
  {
   "cell_type": "code",
   "execution_count": 17,
   "id": "82b4818b-e340-46bd-9d02-03494236347a",
   "metadata": {
    "tags": []
   },
   "outputs": [
    {
     "name": "stdout",
     "output_type": "stream",
     "text": [
      "Train Accuracy: 0.8031\n",
      "Validate Accuracy: 0.7807\n"
     ]
    }
   ],
   "source": [
    "# Call knn() and store the test accuracy in 'test_acc_knn'\n",
    "\n",
    "test_acc_knn = m.knn(train,validate,test)"
   ]
  },
  {
   "cell_type": "markdown",
   "id": "933a5a46-5e39-4279-8470-390fc9bc1c88",
   "metadata": {},
   "source": [
    "### Logistic Regression"
   ]
  },
  {
   "cell_type": "code",
   "execution_count": 18,
   "id": "13832d1c-f33c-4475-a280-c88c00a038d2",
   "metadata": {
    "tags": []
   },
   "outputs": [
    {
     "name": "stdout",
     "output_type": "stream",
     "text": [
      "Train Accuracy: 0.8095\n",
      "Validate Accuracy: 0.8105\n"
     ]
    }
   ],
   "source": [
    "# Call logistic_regression() and store the test accuracy in 'test_acc_logit'\n",
    "\n",
    "test_acc_logit = m.logistic_regression(train,validate,test)"
   ]
  },
  {
   "cell_type": "markdown",
   "id": "dd504af9-b58a-469c-8af3-30e0af714b67",
   "metadata": {
    "tags": []
   },
   "source": [
    "## <ins>Evaluation</ins>"
   ]
  },
  {
   "cell_type": "markdown",
   "id": "bbd646b3-adfd-447e-8217-86308fe92449",
   "metadata": {
    "tags": []
   },
   "source": [
    "> When reviewing the accuracies of the models above, Logistic Regression was MARGINALLY better.\n",
    "\n",
    "> We selected this as our final model for test data evaluation."
   ]
  },
  {
   "cell_type": "code",
   "execution_count": 19,
   "id": "067479dd-218a-4f11-8185-66905530e910",
   "metadata": {
    "tags": []
   },
   "outputs": [
    {
     "data": {
      "text/plain": [
       "0.7977288857345636"
      ]
     },
     "execution_count": 19,
     "metadata": {},
     "output_type": "execute_result"
    }
   ],
   "source": [
    "test_acc_logit"
   ]
  },
  {
   "cell_type": "markdown",
   "id": "7e92e4f7-70bf-420c-b374-c774471ef25c",
   "metadata": {},
   "source": [
    "> Our final model achieved an accuracy of 79.77% on the test data, surpassing the baseline accuracy. While this is a positive outcome, it's important to note that accuracy alone may not be the sole metric for success."
   ]
  },
  {
   "cell_type": "markdown",
   "id": "67bc01f6-a29f-47d7-90db-f0334cb1f79d",
   "metadata": {
    "tags": []
   },
   "source": [
    "## <ins>Conclusion</ins>"
   ]
  },
  {
   "cell_type": "markdown",
   "id": "a0717d0e-0e1c-4ddd-9b51-20b07f978ebd",
   "metadata": {},
   "source": [
    "### Recommendations: \n",
    "\n",
    "> **Customer Loyalty Programs:** used to encourage long-term customers to stay with the company.\n",
    "\n",
    "> **Promotions for Longer Contracts:** such as discounts for customers willing to commit to one-year or two-year contracts.\n"
   ]
  },
  {
   "cell_type": "markdown",
   "id": "32e96415-0dc3-481d-afc8-70523b97f3cb",
   "metadata": {},
   "source": [
    "### Next Steps: \n",
    "> **Continuous Monitoring:** continue to monitor customer churn and model performance - updating the model with new data as it becomes available."
   ]
  },
  {
   "cell_type": "markdown",
   "id": "7f1cb08f-8267-487f-b469-0f7862b70e92",
   "metadata": {
    "tags": []
   },
   "source": [
    "In conclusion, our Telco Churn Analysis project has provided valuable insights into the factors influencing customer churn. The Logistic Regression model offers a practical tool for identifying and addressing churn risk. By implementing the recommendations and staying proactive with continuous monitoring, we can strengthen customer retention and contribute to the long-term success of this company."
   ]
  }
 ],
 "metadata": {
  "kernelspec": {
   "display_name": "Python 3 (ipykernel)",
   "language": "python",
   "name": "python3"
  },
  "language_info": {
   "codemirror_mode": {
    "name": "ipython",
    "version": 3
   },
   "file_extension": ".py",
   "mimetype": "text/x-python",
   "name": "python",
   "nbconvert_exporter": "python",
   "pygments_lexer": "ipython3",
   "version": "3.11.5"
  }
 },
 "nbformat": 4,
 "nbformat_minor": 5
}
