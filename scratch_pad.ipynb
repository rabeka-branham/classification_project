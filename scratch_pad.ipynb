{
 "cells": [
  {
   "cell_type": "markdown",
   "id": "891c928b-41fa-4115-8e0f-cb6734598864",
   "metadata": {},
   "source": [
    "# Telco Churn Analysis"
   ]
  },
  {
   "cell_type": "markdown",
   "id": "02490d7f-c2c2-48ff-8ece-f7895b2c318d",
   "metadata": {},
   "source": [
    "## Imports"
   ]
  },
  {
   "cell_type": "code",
   "execution_count": 1,
   "id": "f190c533-8906-4450-a414-1520733ec366",
   "metadata": {
    "tags": []
   },
   "outputs": [],
   "source": [
    "import acquire as a\n",
    "import prepare as p\n",
    "import explore as e\n",
    "import model as m\n",
    "\n",
    "import numpy as np\n",
    "import pandas as pd\n",
    "import matplotlib.pyplot as plt\n",
    "import seaborn as sns\n",
    "from scipy import stats"
   ]
  },
  {
   "cell_type": "markdown",
   "id": "8a94bf55-0428-4afe-9e6c-b167104777e6",
   "metadata": {},
   "source": [
    "## Acquire\n",
    "* Data acquired from the Codeup MySQL database `telco_churn`\n",
    "* It contained 7043 rows and 22 columns before cleaning\n",
    "* Each row represents an individual customer at Telco\n",
    "* Each column represents a feature of the customers"
   ]
  },
  {
   "cell_type": "code",
   "execution_count": 2,
   "id": "13898026-d67b-44e7-8d7c-7d3bdb7ed3e9",
   "metadata": {
    "tags": []
   },
   "outputs": [],
   "source": [
    "# running the acquire_data() function from my acquire.py file \n",
    "# saving this dataframe as the variable 'df'\n",
    "\n",
    "df = a.acquire_data()"
   ]
  },
  {
   "cell_type": "markdown",
   "id": "97fcfee4-af46-41e7-98b4-fdd93c7fc88a",
   "metadata": {
    "tags": []
   },
   "source": [
    "## Prepare\n",
    "* Drop duplicate columns\n",
    "    * `payment_type_id` *- data exists in the `payment_type` column*\n",
    "    * `internet_service_type_id` *- data exists in the `internet_service_type` column*\n",
    "    * `contract_type_id` *- data exists in the `contract_type` column*\n",
    "* Create `internet_service` column to indicate whether a customer subscribes to internet service & move after `multiple_lines` column\n",
    "* Correct values & datatypes\n",
    "    * changed values in the `senior_citizen` column from '1 or 0' to 'Yes or No'\n",
    "    * filled null values in the `internet_service_type` with 'No internet service' based off of comparison to the `online_security` column\n",
    "    * changed values in the `total_charges` from an object to a float\n",
    "* Split data into 3 new dataframes, stratifying on `churn`:\n",
    "    * Train - 60% of the original dataframe\n",
    "    * Validate - 20% of the original dataframe\n",
    "    * Test - 20% of the original dataframe\n",
    "* No outliers have been removed"
   ]
  },
  {
   "cell_type": "code",
   "execution_count": 3,
   "id": "e171abb7-1491-44ef-a401-b34864f6a14a",
   "metadata": {
    "tags": []
   },
   "outputs": [],
   "source": [
    "# running the prepare_data() function from my prepare.py file \n",
    "# saving dataframe as the variable 'df'\n",
    "\n",
    "df = p.prepare_data(df)"
   ]
  },
  {
   "cell_type": "code",
   "execution_count": 4,
   "id": "1a03befb-ab43-4d0d-88c3-15c30a0853bf",
   "metadata": {
    "tags": []
   },
   "outputs": [],
   "source": [
    "# running the split_data() function from my prepare.py file\n",
    "# saving the split dataframes in the following variables: train, validate, test\n",
    "\n",
    "train, validate, test = p.split_data(df,'churn')"
   ]
  },
  {
   "cell_type": "markdown",
   "id": "35342f6f-ab65-4463-96d4-f71d04377951",
   "metadata": {},
   "source": [
    "### Overview:"
   ]
  },
  {
   "cell_type": "code",
   "execution_count": 5,
   "id": "e7855e41-b547-4bd7-9f18-0e3f541660e5",
   "metadata": {
    "tags": []
   },
   "outputs": [
    {
     "data": {
      "text/html": [
       "<div>\n",
       "<style scoped>\n",
       "    .dataframe tbody tr th:only-of-type {\n",
       "        vertical-align: middle;\n",
       "    }\n",
       "\n",
       "    .dataframe tbody tr th {\n",
       "        vertical-align: top;\n",
       "    }\n",
       "\n",
       "    .dataframe thead th {\n",
       "        text-align: right;\n",
       "    }\n",
       "</style>\n",
       "<table border=\"1\" class=\"dataframe\">\n",
       "  <thead>\n",
       "    <tr style=\"text-align: right;\">\n",
       "      <th></th>\n",
       "      <th>customer_id</th>\n",
       "      <th>gender</th>\n",
       "      <th>senior_citizen</th>\n",
       "      <th>partner</th>\n",
       "      <th>dependents</th>\n",
       "      <th>tenure</th>\n",
       "      <th>phone_service</th>\n",
       "      <th>multiple_lines</th>\n",
       "      <th>internet_service</th>\n",
       "      <th>online_security</th>\n",
       "      <th>...</th>\n",
       "      <th>tech_support</th>\n",
       "      <th>streaming_tv</th>\n",
       "      <th>streaming_movies</th>\n",
       "      <th>paperless_billing</th>\n",
       "      <th>monthly_charges</th>\n",
       "      <th>total_charges</th>\n",
       "      <th>churn</th>\n",
       "      <th>contract_type</th>\n",
       "      <th>internet_service_type</th>\n",
       "      <th>payment_type</th>\n",
       "    </tr>\n",
       "  </thead>\n",
       "  <tbody>\n",
       "    <tr>\n",
       "      <th>5103</th>\n",
       "      <td>7169-YWAMK</td>\n",
       "      <td>Male</td>\n",
       "      <td>No</td>\n",
       "      <td>Yes</td>\n",
       "      <td>Yes</td>\n",
       "      <td>72</td>\n",
       "      <td>Yes</td>\n",
       "      <td>No</td>\n",
       "      <td>Yes</td>\n",
       "      <td>Yes</td>\n",
       "      <td>...</td>\n",
       "      <td>Yes</td>\n",
       "      <td>Yes</td>\n",
       "      <td>No</td>\n",
       "      <td>No</td>\n",
       "      <td>68.4</td>\n",
       "      <td>4855.35</td>\n",
       "      <td>0</td>\n",
       "      <td>Two year</td>\n",
       "      <td>DSL</td>\n",
       "      <td>Bank transfer (automatic)</td>\n",
       "    </tr>\n",
       "    <tr>\n",
       "      <th>4461</th>\n",
       "      <td>6288-LBEAR</td>\n",
       "      <td>Female</td>\n",
       "      <td>No</td>\n",
       "      <td>No</td>\n",
       "      <td>No</td>\n",
       "      <td>23</td>\n",
       "      <td>Yes</td>\n",
       "      <td>No</td>\n",
       "      <td>Yes</td>\n",
       "      <td>No</td>\n",
       "      <td>...</td>\n",
       "      <td>Yes</td>\n",
       "      <td>No</td>\n",
       "      <td>No</td>\n",
       "      <td>Yes</td>\n",
       "      <td>79.1</td>\n",
       "      <td>1783.75</td>\n",
       "      <td>0</td>\n",
       "      <td>Month-to-month</td>\n",
       "      <td>Fiber optic</td>\n",
       "      <td>Mailed check</td>\n",
       "    </tr>\n",
       "    <tr>\n",
       "      <th>1932</th>\n",
       "      <td>2808-CHTDM</td>\n",
       "      <td>Female</td>\n",
       "      <td>No</td>\n",
       "      <td>Yes</td>\n",
       "      <td>Yes</td>\n",
       "      <td>23</td>\n",
       "      <td>Yes</td>\n",
       "      <td>Yes</td>\n",
       "      <td>No</td>\n",
       "      <td>No internet service</td>\n",
       "      <td>...</td>\n",
       "      <td>No internet service</td>\n",
       "      <td>No internet service</td>\n",
       "      <td>No internet service</td>\n",
       "      <td>No</td>\n",
       "      <td>25.1</td>\n",
       "      <td>611.45</td>\n",
       "      <td>0</td>\n",
       "      <td>Two year</td>\n",
       "      <td>No internet service</td>\n",
       "      <td>Mailed check</td>\n",
       "    </tr>\n",
       "    <tr>\n",
       "      <th>3187</th>\n",
       "      <td>4567-AKPIA</td>\n",
       "      <td>Female</td>\n",
       "      <td>No</td>\n",
       "      <td>Yes</td>\n",
       "      <td>Yes</td>\n",
       "      <td>41</td>\n",
       "      <td>Yes</td>\n",
       "      <td>Yes</td>\n",
       "      <td>Yes</td>\n",
       "      <td>No</td>\n",
       "      <td>...</td>\n",
       "      <td>Yes</td>\n",
       "      <td>Yes</td>\n",
       "      <td>Yes</td>\n",
       "      <td>Yes</td>\n",
       "      <td>109.1</td>\n",
       "      <td>4454.25</td>\n",
       "      <td>0</td>\n",
       "      <td>One year</td>\n",
       "      <td>Fiber optic</td>\n",
       "      <td>Bank transfer (automatic)</td>\n",
       "    </tr>\n",
       "    <tr>\n",
       "      <th>1999</th>\n",
       "      <td>2885-HIJDH</td>\n",
       "      <td>Male</td>\n",
       "      <td>No</td>\n",
       "      <td>Yes</td>\n",
       "      <td>Yes</td>\n",
       "      <td>69</td>\n",
       "      <td>Yes</td>\n",
       "      <td>Yes</td>\n",
       "      <td>Yes</td>\n",
       "      <td>Yes</td>\n",
       "      <td>...</td>\n",
       "      <td>Yes</td>\n",
       "      <td>Yes</td>\n",
       "      <td>Yes</td>\n",
       "      <td>No</td>\n",
       "      <td>86.9</td>\n",
       "      <td>6194.10</td>\n",
       "      <td>0</td>\n",
       "      <td>Two year</td>\n",
       "      <td>DSL</td>\n",
       "      <td>Bank transfer (automatic)</td>\n",
       "    </tr>\n",
       "  </tbody>\n",
       "</table>\n",
       "<p>5 rows × 22 columns</p>\n",
       "</div>"
      ],
      "text/plain": [
       "     customer_id  gender senior_citizen partner dependents  tenure  \\\n",
       "5103  7169-YWAMK    Male             No     Yes        Yes      72   \n",
       "4461  6288-LBEAR  Female             No      No         No      23   \n",
       "1932  2808-CHTDM  Female             No     Yes        Yes      23   \n",
       "3187  4567-AKPIA  Female             No     Yes        Yes      41   \n",
       "1999  2885-HIJDH    Male             No     Yes        Yes      69   \n",
       "\n",
       "     phone_service multiple_lines internet_service      online_security  ...  \\\n",
       "5103           Yes             No              Yes                  Yes  ...   \n",
       "4461           Yes             No              Yes                   No  ...   \n",
       "1932           Yes            Yes               No  No internet service  ...   \n",
       "3187           Yes            Yes              Yes                   No  ...   \n",
       "1999           Yes            Yes              Yes                  Yes  ...   \n",
       "\n",
       "             tech_support         streaming_tv     streaming_movies  \\\n",
       "5103                  Yes                  Yes                   No   \n",
       "4461                  Yes                   No                   No   \n",
       "1932  No internet service  No internet service  No internet service   \n",
       "3187                  Yes                  Yes                  Yes   \n",
       "1999                  Yes                  Yes                  Yes   \n",
       "\n",
       "     paperless_billing monthly_charges total_charges  churn   contract_type  \\\n",
       "5103                No            68.4       4855.35      0        Two year   \n",
       "4461               Yes            79.1       1783.75      0  Month-to-month   \n",
       "1932                No            25.1        611.45      0        Two year   \n",
       "3187               Yes           109.1       4454.25      0        One year   \n",
       "1999                No            86.9       6194.10      0        Two year   \n",
       "\n",
       "      internet_service_type               payment_type  \n",
       "5103                    DSL  Bank transfer (automatic)  \n",
       "4461            Fiber optic               Mailed check  \n",
       "1932    No internet service               Mailed check  \n",
       "3187            Fiber optic  Bank transfer (automatic)  \n",
       "1999                    DSL  Bank transfer (automatic)  \n",
       "\n",
       "[5 rows x 22 columns]"
      ]
     },
     "execution_count": 5,
     "metadata": {},
     "output_type": "execute_result"
    }
   ],
   "source": [
    "train.head()"
   ]
  },
  {
   "cell_type": "markdown",
   "id": "62eb6d50-c19a-448b-9bfe-a4f484ce26e1",
   "metadata": {},
   "source": [
    "### Summary:"
   ]
  },
  {
   "cell_type": "code",
   "execution_count": 6,
   "id": "98445847-f351-45a8-82c7-c1bddce09876",
   "metadata": {
    "tags": []
   },
   "outputs": [
    {
     "data": {
      "text/html": [
       "<div>\n",
       "<style scoped>\n",
       "    .dataframe tbody tr th:only-of-type {\n",
       "        vertical-align: middle;\n",
       "    }\n",
       "\n",
       "    .dataframe tbody tr th {\n",
       "        vertical-align: top;\n",
       "    }\n",
       "\n",
       "    .dataframe thead th {\n",
       "        text-align: right;\n",
       "    }\n",
       "</style>\n",
       "<table border=\"1\" class=\"dataframe\">\n",
       "  <thead>\n",
       "    <tr style=\"text-align: right;\">\n",
       "      <th></th>\n",
       "      <th>tenure</th>\n",
       "      <th>monthly_charges</th>\n",
       "      <th>total_charges</th>\n",
       "      <th>churn</th>\n",
       "    </tr>\n",
       "  </thead>\n",
       "  <tbody>\n",
       "    <tr>\n",
       "      <th>count</th>\n",
       "      <td>4225.000000</td>\n",
       "      <td>4225.000000</td>\n",
       "      <td>4225.000000</td>\n",
       "      <td>4225.000000</td>\n",
       "    </tr>\n",
       "    <tr>\n",
       "      <th>mean</th>\n",
       "      <td>32.195266</td>\n",
       "      <td>64.537136</td>\n",
       "      <td>2266.771929</td>\n",
       "      <td>0.265325</td>\n",
       "    </tr>\n",
       "    <tr>\n",
       "      <th>std</th>\n",
       "      <td>24.632613</td>\n",
       "      <td>30.274294</td>\n",
       "      <td>2277.238910</td>\n",
       "      <td>0.441559</td>\n",
       "    </tr>\n",
       "    <tr>\n",
       "      <th>min</th>\n",
       "      <td>0.000000</td>\n",
       "      <td>18.250000</td>\n",
       "      <td>0.000000</td>\n",
       "      <td>0.000000</td>\n",
       "    </tr>\n",
       "    <tr>\n",
       "      <th>25%</th>\n",
       "      <td>8.000000</td>\n",
       "      <td>35.000000</td>\n",
       "      <td>374.800000</td>\n",
       "      <td>0.000000</td>\n",
       "    </tr>\n",
       "    <tr>\n",
       "      <th>50%</th>\n",
       "      <td>29.000000</td>\n",
       "      <td>70.250000</td>\n",
       "      <td>1379.800000</td>\n",
       "      <td>0.000000</td>\n",
       "    </tr>\n",
       "    <tr>\n",
       "      <th>75%</th>\n",
       "      <td>55.000000</td>\n",
       "      <td>89.800000</td>\n",
       "      <td>3767.400000</td>\n",
       "      <td>1.000000</td>\n",
       "    </tr>\n",
       "    <tr>\n",
       "      <th>max</th>\n",
       "      <td>72.000000</td>\n",
       "      <td>118.750000</td>\n",
       "      <td>8672.450000</td>\n",
       "      <td>1.000000</td>\n",
       "    </tr>\n",
       "  </tbody>\n",
       "</table>\n",
       "</div>"
      ],
      "text/plain": [
       "            tenure  monthly_charges  total_charges        churn\n",
       "count  4225.000000      4225.000000    4225.000000  4225.000000\n",
       "mean     32.195266        64.537136    2266.771929     0.265325\n",
       "std      24.632613        30.274294    2277.238910     0.441559\n",
       "min       0.000000        18.250000       0.000000     0.000000\n",
       "25%       8.000000        35.000000     374.800000     0.000000\n",
       "50%      29.000000        70.250000    1379.800000     0.000000\n",
       "75%      55.000000        89.800000    3767.400000     1.000000\n",
       "max      72.000000       118.750000    8672.450000     1.000000"
      ]
     },
     "execution_count": 6,
     "metadata": {},
     "output_type": "execute_result"
    }
   ],
   "source": [
    "train.describe()"
   ]
  },
  {
   "cell_type": "markdown",
   "id": "1a775ad1-4410-4a73-afe6-ef1f126231d5",
   "metadata": {},
   "source": [
    "## Data Dictionary\n",
    "| Feature | Definition |\n",
    "|:--------|:-----------|\n",
    "|customer_id|Unique identifier for each customer|\n",
    "|gender|The gender of the customer (male,female)|\n",
    "|senior_citizen|Indicates whether the customer is a senior citizen|\n",
    "|partner|Indicates whether the customer has a partner|\n",
    "|dependents|Indicates whether the customer has dependents|\n",
    "|tenure|The duration in months that a customer has been with the service provider|\n",
    "|phone_service|Indicates whether the customer subscribes to phone service|\n",
    "|multiple_lines|Indicates whether the customer has multiple phone lines|\n",
    "|internet_service|Indicates whether the customer subscribes to internet service|\n",
    "|online_security|Indicates whether the customer has online security features|\n",
    "|online_backup|Indicates whether the customer has online backup features|\n",
    "|device_protection|Indicates whether the customer has device protection features|\n",
    "|tech_support|Indicates whether the customer has technical support services|\n",
    "|streaming_tv|Indicates whether the customer subscribes to streaming TV services|\n",
    "|streaming_movies|Indicates whether the customer subscribes to streaming movie services|\n",
    "|paperless_billing|Indicates whether the customer has opted for paperless billing|\n",
    "|monthly_charges|The amount charged to the customer on a monthly basis|\n",
    "|total_charges|The total charges incurred by the customer|\n",
    "|churn|Indicates whether the customer has churned|\n",
    "|contract_type|Type of contract subscribed by the customer (month-to-month, one-year, two-year)|\n",
    "|internet_service_type|Type of internet service subscribed by the customer (DSL, fiber optic)|\n",
    "|payment_type|The method of payment chosen by the customer (bank transfer, credit card, electronic check, mailed check)|"
   ]
  },
  {
   "cell_type": "markdown",
   "id": "3e3ac82f-b551-4c0b-a0ef-0c218de10159",
   "metadata": {
    "tags": []
   },
   "source": [
    "## Explore"
   ]
  },
  {
   "cell_type": "markdown",
   "id": "3762e863-c9c2-4ca8-8601-112fbfd3ed98",
   "metadata": {},
   "source": [
    "### How often are customers churning?"
   ]
  },
  {
   "cell_type": "code",
   "execution_count": 7,
   "id": "24739dce-aa7a-47e5-b348-afdc8f8d6616",
   "metadata": {
    "tags": []
   },
   "outputs": [
    {
     "data": {
      "image/png": "[encoded data removed]",
      "text/plain": [
       "<Figure size 640x480 with 1 Axes>"
      ]
     },
     "metadata": {},
     "output_type": "display_data"
    }
   ],
   "source": [
    "e.pie_churn(train,'churn')"
   ]
  },
  {
   "cell_type": "markdown",
   "id": "ba39513d-5a51-4c91-a773-161faf7ee37e",
   "metadata": {},
   "source": [
    "### Does `tenure` affect the churn rate? "
   ]
  },
  {
   "cell_type": "markdown",
   "id": "e5f503f7-5b15-404e-aa2a-e80f4e8185b3",
   "metadata": {
    "tags": []
   },
   "source": [
    "> $H_0$: Tenure has NO effect on the churn rate\n",
    "\n",
    "> $H_a$: Tenure HAS an effect on the churn rate"
   ]
  },
  {
   "cell_type": "code",
   "execution_count": 32,
   "id": "49587219-8d44-44a3-a467-b5ae247fe070",
   "metadata": {
    "tags": []
   },
   "outputs": [],
   "source": [
    "def bar_tenure(train):\n",
    "    values = [train.tenure[(train.churn == True)].mean(),train.tenure[(train.churn == False)].mean()]\n",
    "    labels = ['Churn','Active']\n",
    "    plt.figure(figsize=(4, 4))\n",
    "    plt.bar(height=values, x=labels, color=['lightsalmon','paleturquoise'])\n",
    "    plt.title('Comparing Avg Tenure of Churn vs Active')\n",
    "    plt.show()"
   ]
  },
  {
   "cell_type": "code",
   "execution_count": null,
   "id": "ae2b786a-76bb-427a-9364-d827f7adef4e",
   "metadata": {
    "tags": []
   },
   "outputs": [],
   "source": []
  },
  {
   "cell_type": "code",
   "execution_count": 33,
   "id": "12e3edf0-4cf6-45df-a047-61905d379ecf",
   "metadata": {
    "tags": []
   },
   "outputs": [
    {
     "data": {
      "image/png": "[encoded data removed]",
      "text/plain": [
       "<Figure size 400x400 with 1 Axes>"
      ]
     },
     "metadata": {},
     "output_type": "display_data"
    }
   ],
   "source": [
    "bar_tenure(train)"
   ]
  },
  {
   "cell_type": "code",
   "execution_count": null,
   "id": "83577273-538b-4b12-a73f-17898327f966",
   "metadata": {},
   "outputs": [],
   "source": []
  },
  {
   "cell_type": "code",
   "execution_count": null,
   "id": "693753e5-5c0c-447f-a0bb-43345e5c19bb",
   "metadata": {},
   "outputs": [],
   "source": []
  },
  {
   "cell_type": "code",
   "execution_count": null,
   "id": "de07c0ab-8a33-4b98-811e-b7d66e18b199",
   "metadata": {},
   "outputs": [],
   "source": []
  },
  {
   "cell_type": "code",
   "execution_count": null,
   "id": "06449233-e31d-4200-942e-f8796b3d2d7f",
   "metadata": {},
   "outputs": [],
   "source": []
  },
  {
   "cell_type": "markdown",
   "id": "7c3cb162-b10b-46bd-9465-ed9725f2fab8",
   "metadata": {
    "tags": []
   },
   "source": [
    "### Does `monthly_charges` affect the churn rate?"
   ]
  },
  {
   "cell_type": "code",
   "execution_count": null,
   "id": "d67fcaef-1bf4-4365-bf3e-0ef01ce440d8",
   "metadata": {},
   "outputs": [],
   "source": []
  },
  {
   "cell_type": "markdown",
   "id": "e43b24ad-a966-4dbf-aabf-6d83311faa33",
   "metadata": {},
   "source": [
    "### Does `contract type` affect the churn rate?"
   ]
  },
  {
   "cell_type": "code",
   "execution_count": null,
   "id": "8eac3a70-9a14-4bea-894e-bf6e8df25905",
   "metadata": {
    "tags": []
   },
   "outputs": [],
   "source": [
    "stats_top_three = e.top_three_rel_columns(train, 'churn')\n",
    "stats_top_three"
   ]
  },
  {
   "cell_type": "code",
   "execution_count": null,
   "id": "e8f3ebb8-15c8-4f80-ba6b-addd478e6b41",
   "metadata": {
    "tags": []
   },
   "outputs": [],
   "source": [
    "train.churn = np.where(train['churn'] == 'Yes',1,0)"
   ]
  },
  {
   "cell_type": "code",
   "execution_count": null,
   "id": "abbcdb56-b3a3-4349-9d93-3576416f4eab",
   "metadata": {
    "tags": []
   },
   "outputs": [],
   "source": [
    "for col in top_three:\n",
    "    sns.barplot(x=(col),y='churn',data=train.sort_values(col))\n",
    "    plt.axhline(train.churn.mean())\n",
    "    plt.show()"
   ]
  },
  {
   "cell_type": "code",
   "execution_count": null,
   "id": "015abe78-26a8-4a50-b1b4-7cdd523bcc97",
   "metadata": {},
   "outputs": [],
   "source": [
    "sns.histplot(data=train,x='tenure',hue='churn',)"
   ]
  },
  {
   "cell_type": "code",
   "execution_count": null,
   "id": "47409056-1370-4472-b7a9-1d4dab1483fc",
   "metadata": {},
   "outputs": [],
   "source": [
    "sns.scatterplot(data=train,x='tenure',y='monthly_charges',hue='churn')"
   ]
  },
  {
   "cell_type": "code",
   "execution_count": null,
   "id": "e3139c2a-b60c-4259-ae64-42bcd6d825d8",
   "metadata": {
    "tags": []
   },
   "outputs": [],
   "source": [
    "train"
   ]
  },
  {
   "cell_type": "code",
   "execution_count": null,
   "id": "6c00b23d-36e6-4ea3-9c13-4d8a53b81215",
   "metadata": {
    "tags": []
   },
   "outputs": [],
   "source": [
    "train.payment_type.value_counts()"
   ]
  },
  {
   "cell_type": "code",
   "execution_count": null,
   "id": "d6420a40-ed0e-433a-b69f-60afcaf7d38b",
   "metadata": {},
   "outputs": [],
   "source": []
  }
 ],
 "metadata": {
  "kernelspec": {
   "display_name": "Python 3 (ipykernel)",
   "language": "python",
   "name": "python3"
  },
  "language_info": {
   "codemirror_mode": {
    "name": "ipython",
    "version": 3
   },
   "file_extension": ".py",
   "mimetype": "text/x-python",
   "name": "python",
   "nbconvert_exporter": "python",
   "pygments_lexer": "ipython3",
   "version": "3.11.5"
  }
 },
 "nbformat": 4,
 "nbformat_minor": 5
}
