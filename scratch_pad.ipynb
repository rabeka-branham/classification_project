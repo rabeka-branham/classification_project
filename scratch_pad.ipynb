{
 "cells": [
  {
   "cell_type": "code",
   "execution_count": 1,
   "id": "f190c533-8906-4450-a414-1520733ec366",
   "metadata": {
    "tags": []
   },
   "outputs": [],
   "source": [
    "import acquire as a\n",
    "import prepare as p\n",
    "import explore as e\n",
    "import model as m\n",
    "\n",
    "import numpy as np\n",
    "import pandas as pd\n",
    "import matplotlib.pyplot as plt\n",
    "import seaborn as sns\n",
    "from scipy import stats"
   ]
  },
  {
   "cell_type": "code",
   "execution_count": 2,
   "id": "11a98d91-a43a-479a-a3ce-e22d46173b90",
   "metadata": {
    "tags": []
   },
   "outputs": [
    {
     "name": "stdout",
     "output_type": "stream",
     "text": [
      "File exists - reading CSV file\n"
     ]
    }
   ],
   "source": [
    "train, validate, test = p.split_data((p.prepare_data(a.acquire_data())),'churn')"
   ]
  },
  {
   "cell_type": "code",
   "execution_count": 3,
   "id": "03f6a3a8-4693-43a3-867f-20e937b5275a",
   "metadata": {
    "tags": []
   },
   "outputs": [
    {
     "data": {
      "text/plain": [
       "21"
      ]
     },
     "execution_count": 3,
     "metadata": {},
     "output_type": "execute_result"
    }
   ],
   "source": [
    "len(train.columns)"
   ]
  },
  {
   "cell_type": "code",
   "execution_count": 4,
   "id": "a51cd722-74b1-4365-92f7-36a28b7ed8c7",
   "metadata": {
    "tags": []
   },
   "outputs": [],
   "source": [
    "cat_cols = train.columns[train.nunique() < 10].drop('churn').tolist()\n",
    "num_cols = train.columns[train.nunique() >= 10].drop('customer_id').tolist()"
   ]
  },
  {
   "cell_type": "code",
   "execution_count": 34,
   "id": "a3842eda-1b97-4fae-b8e5-ac1c1548a869",
   "metadata": {
    "tags": []
   },
   "outputs": [
    {
     "name": "stdout",
     "output_type": "stream",
     "text": [
      "tenure vs churn:\n",
      "The distributions are not normally distributed.\n",
      "The distributions are not normally distributed.\n",
      "There is an inequality of variance in our two samples.\n",
      "(1121,) (3104,) (4225, 21)\n",
      "\n",
      "monthly_charges vs churn:\n",
      "The distributions are not normally distributed.\n",
      "The distributions are not normally distributed.\n",
      "There is an inequality of variance in our two samples.\n",
      "(1121,) (3104,) (4225, 21)\n",
      "\n",
      "total_charges vs churn:\n",
      "The distributions are not normally distributed.\n",
      "The distributions are not normally distributed.\n",
      "There is an inequality of variance in our two samples.\n",
      "(1121,) (3104,) (4225, 21)\n",
      "\n"
     ]
    }
   ],
   "source": [
    "for col in num_cols:\n",
    "    print(f'{col} vs churn:')\n",
    "    churned = train[train.churn == 'Yes'][col]\n",
    "    active = train[train.churn == 'No'][col]\n",
    "    \n",
    "    t, p = stats.shapiro(churned)\n",
    "    if p < α:\n",
    "        print('The distributions are not normally distributed.')\n",
    "    else: \n",
    "        print('The distributions are normal.')\n",
    "        \n",
    "    t, p = stats.shapiro(active)\n",
    "    if p < α:\n",
    "        print('The distributions are not normally distributed.')\n",
    "    else: \n",
    "        print('The distributions are normal.')\n",
    "    \n",
    "\n",
    "    α = .05\n",
    "    t, p = stats.levene(churned, active)\n",
    "    if p < α:\n",
    "        print(f'There is an inequality of variance in our two samples.')\n",
    "    else:\n",
    "        print(f'There is equal variance in our two samples.')\n",
    "    print(churned.shape, active.shape, train.shape)\n",
    "    print()\n",
    "    \n",
    "    \n",
    "        \n",
    "\n",
    "# Ha: The distributions are not normally distributed"
   ]
  },
  {
   "cell_type": "code",
   "execution_count": 9,
   "id": "e047ae53-095e-492e-8bae-f09577110530",
   "metadata": {
    "tags": []
   },
   "outputs": [],
   "source": [
    "cat_cols_w_rel = []\n",
    "cat_cols_wo_rel = []\n",
    "\n",
    "for col in cat_cols:\n",
    "    observed = pd.crosstab(train[col],train.churn)\n",
    "    α = .05\n",
    "    chi2, p, dof, expected = stats.chi2_contingency(observed)\n",
    "    \n",
    "    if p < α:\n",
    "        cat_cols_w_rel.append(col)\n",
    "    else:\n",
    "        cat_cols_wo_rel.append(col)"
   ]
  },
  {
   "cell_type": "code",
   "execution_count": 10,
   "id": "130da5ab-1e02-4eb7-9160-4b86112a8f9d",
   "metadata": {
    "tags": []
   },
   "outputs": [],
   "source": [
    "churned = train[train.churn == 'Yes'][col]\n",
    "active = train[train.churn == 'No'][col]\n",
    "quant_cols_w_rel = []\n",
    "quant_cols_wo_rel = []\n",
    "\n",
    "for col in num_cols:\n",
    "    t,p = stats.mannwhitneyu(churned[col], active[col])\n",
    "    α = .05\n",
    "    \n",
    "    if p < α:\n",
    "        quant_cols_w_rel.append(col)\n",
    "    else:\n",
    "        quant_cols_wo_rel.append(col)"
   ]
  },
  {
   "cell_type": "code",
   "execution_count": 7,
   "id": "0ac0f7e5-d514-4582-af46-c059cf45ff52",
   "metadata": {
    "tags": []
   },
   "outputs": [
    {
     "name": "stdout",
     "output_type": "stream",
     "text": [
      "churn                 No       Yes\n",
      "senior_citizen                    \n",
      "No              0.765758  0.234242\n",
      "Yes             0.578947  0.421053\n",
      "\n",
      "churn          No       Yes\n",
      "partner                    \n",
      "No       0.669820  0.330180\n",
      "Yes      0.806484  0.193516\n",
      "\n",
      "churn             No       Yes\n",
      "dependents                    \n",
      "No          0.687077  0.312923\n",
      "Yes         0.845548  0.154452\n",
      "\n",
      "churn                   No       Yes\n",
      "multiple_lines                      \n",
      "No                0.757185  0.242815\n",
      "No phone service  0.735714  0.264286\n",
      "Yes               0.709010  0.290990\n",
      "\n",
      "churn                      No       Yes\n",
      "online_security                        \n",
      "No                   0.585262  0.414738\n",
      "No internet service  0.926407  0.073593\n",
      "Yes                  0.852196  0.147804\n",
      "\n",
      "churn                      No       Yes\n",
      "online_backup                          \n",
      "No                   0.603854  0.396146\n",
      "No internet service  0.926407  0.073593\n",
      "Yes                  0.781577  0.218423\n",
      "\n",
      "churn                      No       Yes\n",
      "device_protection                      \n",
      "No                   0.613685  0.386315\n",
      "No internet service  0.926407  0.073593\n",
      "Yes                  0.767474  0.232526\n",
      "\n",
      "churn                      No       Yes\n",
      "tech_support                           \n",
      "No                   0.582534  0.417466\n",
      "No internet service  0.926407  0.073593\n",
      "Yes                  0.849630  0.150370\n",
      "\n",
      "churn                      No       Yes\n",
      "streaming_tv                           \n",
      "No                   0.665470  0.334530\n",
      "No internet service  0.926407  0.073593\n",
      "Yes                  0.696933  0.303067\n",
      "\n",
      "churn                      No       Yes\n",
      "streaming_movies                       \n",
      "No                   0.665072  0.334928\n",
      "No internet service  0.926407  0.073593\n",
      "Yes                  0.697360  0.302640\n",
      "\n",
      "churn                    No       Yes\n",
      "paperless_billing                    \n",
      "No                 0.839141  0.160859\n",
      "Yes                0.662805  0.337195\n",
      "\n",
      "churn                 No       Yes\n",
      "contract_type                     \n",
      "Month-to-month  0.573861  0.426139\n",
      "One year        0.892272  0.107728\n",
      "Two year        0.972603  0.027397\n",
      "\n",
      "churn                        No       Yes\n",
      "internet_service_type                    \n",
      "DSL                    0.808834  0.191166\n",
      "Fiber optic            0.580994  0.419006\n",
      "No internet service    0.926407  0.073593\n",
      "\n",
      "churn                            No       Yes\n",
      "payment_type                                 \n",
      "Bank transfer (automatic)  0.837235  0.162765\n",
      "Credit card (automatic)    0.852909  0.147091\n",
      "Electronic check           0.555402  0.444598\n",
      "Mailed check               0.795478  0.204522\n",
      "\n"
     ]
    }
   ],
   "source": [
    "for col in cat_cols_w_rel:\n",
    "    print(pd.crosstab(train[col],train.churn,normalize=0))\n",
    "    print()"
   ]
  },
  {
   "cell_type": "code",
   "execution_count": null,
   "id": "c71622af-963f-4510-a851-1ef13da8b527",
   "metadata": {
    "tags": []
   },
   "outputs": [],
   "source": [
    "sns.countplot(train)"
   ]
  },
  {
   "cell_type": "code",
   "execution_count": null,
   "id": "fcc8632d-d081-4146-88b9-c1a874c8c6ae",
   "metadata": {},
   "outputs": [],
   "source": []
  }
 ],
 "metadata": {
  "kernelspec": {
   "display_name": "Python 3 (ipykernel)",
   "language": "python",
   "name": "python3"
  },
  "language_info": {
   "codemirror_mode": {
    "name": "ipython",
    "version": 3
   },
   "file_extension": ".py",
   "mimetype": "text/x-python",
   "name": "python",
   "nbconvert_exporter": "python",
   "pygments_lexer": "ipython3",
   "version": "3.11.5"
  }
 },
 "nbformat": 4,
 "nbformat_minor": 5
}
