{
 "cells": [
  {
   "cell_type": "markdown",
   "id": "891c928b-41fa-4115-8e0f-cb6734598864",
   "metadata": {
    "tags": []
   },
   "source": [
    "# Telco Churn Analysis"
   ]
  },
  {
   "cell_type": "markdown",
   "id": "34d0cfae-4e9a-4c97-b78a-86049500b8ac",
   "metadata": {},
   "source": [
    "## <ins>Goals</ins>\n",
    "* Find out what is causing the customer churn at Telco.\n",
    "\n",
    "* Construct a ML model using classification algorithms that accurately predicts customer churn."
   ]
  },
  {
   "cell_type": "markdown",
   "id": "02490d7f-c2c2-48ff-8ece-f7895b2c318d",
   "metadata": {
    "tags": []
   },
   "source": [
    "## <ins>Imports</ins>"
   ]
  },
  {
   "cell_type": "code",
   "execution_count": 5,
   "id": "f190c533-8906-4450-a414-1520733ec366",
   "metadata": {
    "tags": []
   },
   "outputs": [],
   "source": [
    "import acquire as a\n",
    "import prepare as p\n",
    "import explore as e\n",
    "import model as m\n",
    "\n",
    "import numpy as np\n",
    "import pandas as pd\n",
    "import matplotlib.pyplot as plt\n",
    "import seaborn as sns\n",
    "from scipy import stats\n",
    "\n",
    "import warnings\n",
    "warnings.filterwarnings(\"ignore\")"
   ]
  },
  {
   "cell_type": "markdown",
   "id": "8a94bf55-0428-4afe-9e6c-b167104777e6",
   "metadata": {
    "tags": []
   },
   "source": [
    "## <ins>Acquire</ins>"
   ]
  },
  {
   "cell_type": "markdown",
   "id": "d89f1e17-1d51-447f-a914-6e69a43acd9f",
   "metadata": {},
   "source": [
    "* Data acquired from the Codeup MySQL database `telco_churn`\n",
    "* It contained 7043 rows and 22 columns before preparing.\n",
    "* Each row represents an individual customer at Telco\n",
    "* Each column represents a feature of the customers."
   ]
  },
  {
   "cell_type": "code",
   "execution_count": 6,
   "id": "13898026-d67b-44e7-8d7c-7d3bdb7ed3e9",
   "metadata": {
    "tags": []
   },
   "outputs": [],
   "source": [
    "# running the acquire_data() function from my acquire.py file \n",
    "# saving this dataframe as the variable 'df'\n",
    "\n",
    "df = a.acquire_data()"
   ]
  },
  {
   "cell_type": "markdown",
   "id": "97fcfee4-af46-41e7-98b4-fdd93c7fc88a",
   "metadata": {
    "tags": []
   },
   "source": [
    "## <ins>Prepare</ins>"
   ]
  },
  {
   "cell_type": "markdown",
   "id": "d70d3ddc-ff5b-4d4f-8a9b-f616b1cae500",
   "metadata": {},
   "source": [
    "* Drop duplicate columns\n",
    "    * `payment_type_id` *- data exists in the `payment_type` column*\n",
    "    * `internet_service_type_id` *- data exists in the `internet_service_type` column*\n",
    "    * `contract_type_id` *- data exists in the `contract_type` column*\n",
    "* Create `internet_service` column to indicate whether a customer subscribes to internet service & move after `multiple_lines` column\n",
    "* Correct values & datatypes\n",
    "    * changed values in the `senior_citizen` column from '1 or 0' to 'Yes or No'\n",
    "    * changed values in the `churn` column from 'Yes or No' to '1 or 0'\n",
    "    * filled null values in the `internet_service_type` with 'No internet service' based off of comparison to the `online_security` column\n",
    "    * changed values in the `total_charges` from an object to a float\n",
    "* Set the index to the `customer_id` column since this information is a unique identifier\n",
    "* Split data into 3 new dataframes, stratifying on `churn`:\n",
    "    * Train - 60% of the original dataframe\n",
    "    * Validate - 20% of the original dataframe\n",
    "    * Test - 20% of the original dataframe\n",
    "* No outliers have been removed"
   ]
  },
  {
   "cell_type": "code",
   "execution_count": 7,
   "id": "e171abb7-1491-44ef-a401-b34864f6a14a",
   "metadata": {
    "tags": []
   },
   "outputs": [],
   "source": [
    "# running the prepare_data() function from my prepare.py file \n",
    "# saving dataframe as the variable 'df'\n",
    "\n",
    "df = p.prepare_data(df)"
   ]
  },
  {
   "cell_type": "code",
   "execution_count": 8,
   "id": "1a03befb-ab43-4d0d-88c3-15c30a0853bf",
   "metadata": {
    "tags": []
   },
   "outputs": [],
   "source": [
    "# running the split_data() function from my prepare.py file\n",
    "# saving the split dataframes in the following variables: train, validate, test\n",
    "\n",
    "train, validate, test = p.split_data(df,'churn')"
   ]
  },
  {
   "cell_type": "markdown",
   "id": "3e3ac82f-b551-4c0b-a0ef-0c218de10159",
   "metadata": {
    "tags": []
   },
   "source": [
    "## <ins>Explore</ins>"
   ]
  },
  {
   "cell_type": "markdown",
   "id": "3762e863-c9c2-4ca8-8601-112fbfd3ed98",
   "metadata": {},
   "source": [
    "### How often are customers churning?"
   ]
  },
  {
   "cell_type": "code",
   "execution_count": 9,
   "id": "24739dce-aa7a-47e5-b348-afdc8f8d6616",
   "metadata": {
    "tags": []
   },
   "outputs": [
    {
     "data": {
      "image/png": "[encoded data removed]",
      "text/plain": [
       "<Figure size 600x600 with 1 Axes>"
      ]
     },
     "metadata": {},
     "output_type": "display_data"
    }
   ],
   "source": [
    "e.pie_churn(train,'churn')"
   ]
  },
  {
   "cell_type": "markdown",
   "id": "88f101aa-7420-42af-8ba3-ae66e3f76968",
   "metadata": {},
   "source": [
    "> Customers are churning at 26.53% rate (using the training data)"
   ]
  },
  {
   "cell_type": "markdown",
   "id": "ba39513d-5a51-4c91-a773-161faf7ee37e",
   "metadata": {},
   "source": [
    "### Does `tenure` affect the churn rate? "
   ]
  },
  {
   "cell_type": "markdown",
   "id": "d76a1826-e546-4735-8dfc-6fd8e7727a33",
   "metadata": {
    "tags": []
   },
   "source": [
    "**<ins>Hypothesis Testing:</ins>**\n",
    "\n",
    "**Formulate a null and alternative hypothesis**\n",
    "\n",
    "> $H_0$: There is NO relationship between tenure & churn rate\n",
    "\n",
    "> $H_a$: There IS a relationship between tenure & churn rate\n",
    "\n",
    "**confidence interval: 95%**\n",
    "\n",
    "**alpha: .05** "
   ]
  },
  {
   "cell_type": "code",
   "execution_count": null,
   "id": "b50ac96a-67e5-4f2c-a7c2-0681a5023d7b",
   "metadata": {
    "tags": []
   },
   "outputs": [],
   "source": [
    "# checking the distribution of our continuous variable\n",
    "sns.histplot(train.tenure,color='lightseagreen');"
   ]
  },
  {
   "cell_type": "markdown",
   "id": "ee2b7dd1-77fa-4930-8f13-53323993bfe8",
   "metadata": {},
   "source": [
    "**Since we are comparing a continuous variable to a categorical variable & the continuous variable is NOT normally distributed, we will use the Mann-Whitney test.**"
   ]
  },
  {
   "cell_type": "code",
   "execution_count": null,
   "id": "f1e954ea-c2d0-4314-98d2-9e965d93b09d",
   "metadata": {
    "tags": []
   },
   "outputs": [],
   "source": [
    "e.mann_whitney_tenure(train)"
   ]
  },
  {
   "cell_type": "markdown",
   "id": "275c261f-68ab-4b19-bb20-f677c39f83c3",
   "metadata": {},
   "source": [
    "**<ins>Visualization:</ins>**"
   ]
  },
  {
   "cell_type": "code",
   "execution_count": null,
   "id": "d1691f20-f779-4104-8e84-f09d36c12e46",
   "metadata": {
    "tags": []
   },
   "outputs": [],
   "source": [
    "e.bar_tenure(train)"
   ]
  },
  {
   "cell_type": "markdown",
   "id": "a131c020-2297-40b0-8fa8-4689094f3349",
   "metadata": {
    "tags": []
   },
   "source": [
    "> The difference in the average tenure between churned & active customers is 19.85 months."
   ]
  },
  {
   "cell_type": "markdown",
   "id": "7c3cb162-b10b-46bd-9465-ed9725f2fab8",
   "metadata": {
    "tags": []
   },
   "source": [
    "### Does `monthly_charges` affect the churn rate?"
   ]
  },
  {
   "cell_type": "markdown",
   "id": "61904275-740b-4ad2-a6c3-c8fd326448d1",
   "metadata": {
    "tags": []
   },
   "source": [
    "**<ins>Hypothesis Testing:</ins>**\n",
    "\n",
    "**Formulate a null and alternative hypothesis**\n",
    "\n",
    "> $H_0$: There is NO relationship between monthly_charges & churn rate\n",
    "\n",
    "> $H_a$: There IS a relationship between monthly_charges & churn rate\n",
    "\n",
    "**confidence interval: 95%**\n",
    "\n",
    "**alpha: .05** "
   ]
  },
  {
   "cell_type": "code",
   "execution_count": null,
   "id": "a5019cd0-9cc2-46f2-8572-da23c1a9ac98",
   "metadata": {
    "tags": []
   },
   "outputs": [],
   "source": [
    "# checking the distribution of our continuous variable\n",
    "sns.histplot(train.monthly_charges,color='lightseagreen');"
   ]
  },
  {
   "cell_type": "markdown",
   "id": "5c8bdfaf-c3ed-4098-8fd4-96826d10a6c3",
   "metadata": {},
   "source": [
    "**Since we are comparing a continuous variable to a categorical variable & the continuous variable is NOT normally distributed, we will use the Mann-Whitney test.**"
   ]
  },
  {
   "cell_type": "code",
   "execution_count": null,
   "id": "6f3cac54-b944-4682-94ee-f40e3226a0c0",
   "metadata": {
    "tags": []
   },
   "outputs": [],
   "source": [
    "e.mann_whitney_monthly_charges(train)"
   ]
  },
  {
   "cell_type": "markdown",
   "id": "bfd7fcb7-05ff-47ae-84aa-211978036513",
   "metadata": {},
   "source": [
    "**<ins>Visualization:</ins>**"
   ]
  },
  {
   "cell_type": "code",
   "execution_count": null,
   "id": "dbb899d0-3fff-427e-8319-3901e0bd50ac",
   "metadata": {
    "tags": []
   },
   "outputs": [],
   "source": [
    "e.bar_monthly_charges(train)"
   ]
  },
  {
   "cell_type": "markdown",
   "id": "2e7c1da2-79ea-411f-90f4-5a831da7f770",
   "metadata": {},
   "source": [
    "> The difference in the average monthly charges between churned & active customers is $13.38."
   ]
  },
  {
   "cell_type": "markdown",
   "id": "e43b24ad-a966-4dbf-aabf-6d83311faa33",
   "metadata": {},
   "source": [
    "### Does `contract_type` affect the churn rate?"
   ]
  },
  {
   "cell_type": "markdown",
   "id": "029b51d9-7037-42a3-81bb-f1f7a76ccd0a",
   "metadata": {
    "tags": []
   },
   "source": [
    "**<ins>Hypothesis Testing:</ins>**\n",
    "\n",
    "**Formulate a null and alternative hypothesis**\n",
    "\n",
    "> $H_0$: There is NO relationship between contract_type & churn rate\n",
    "\n",
    "> $H_a$: There IS a relationship between contract_type & churn rate\n",
    "\n",
    "**confidence interval: 95%**\n",
    "\n",
    "**alpha: .05**\n",
    "\n",
    "**Since we are comparing two categorical variables, we will use the $χ^2$ test.**"
   ]
  },
  {
   "cell_type": "code",
   "execution_count": 8,
   "id": "e05387f0-43cb-4ee5-b03a-51b259e3396e",
   "metadata": {
    "tags": []
   },
   "outputs": [
    {
     "name": "stdout",
     "output_type": "stream",
     "text": [
      "There IS a relationship between contract_type & churn rate!\n"
     ]
    }
   ],
   "source": [
    "e.chi_squared_contract_type(train)"
   ]
  },
  {
   "cell_type": "markdown",
   "id": "0a361e6b-2c25-4121-b7e7-79946717f8de",
   "metadata": {},
   "source": [
    "**<ins>Visualization</ins>**"
   ]
  },
  {
   "cell_type": "code",
   "execution_count": null,
   "id": "23a73c99-6173-4d5a-a418-1bb34656eac5",
   "metadata": {
    "tags": []
   },
   "outputs": [],
   "source": [
    "e.pie_churn_by_contract_type(train)"
   ]
  },
  {
   "cell_type": "markdown",
   "id": "902d6931-0fb8-469f-825c-0c28c483c2f6",
   "metadata": {},
   "source": [
    "> There is a 32% difference in churn rate between the month-to-month contracts & one-year contracts\n",
    "\n",
    "> There is a 40% difference in churn rate between the month-to-month contracts & two-year contracts\n",
    "\n",
    "> There is an 8% difference in churn rate between the one-year contracts & two-year contracts"
   ]
  },
  {
   "cell_type": "markdown",
   "id": "573922ae-aca8-4bbc-88f9-383e02478d22",
   "metadata": {
    "tags": []
   },
   "source": [
    "## <ins>Model</ins>"
   ]
  },
  {
   "cell_type": "code",
   "execution_count": null,
   "id": "3f161342-ec6f-4736-ad63-0e84b6f032ce",
   "metadata": {
    "tags": []
   },
   "outputs": [],
   "source": [
    "train,validate,test = m.preprocess(train,validate,test)"
   ]
  },
  {
   "cell_type": "markdown",
   "id": "35f12e6d-d775-4549-a7c2-5d9370c22c07",
   "metadata": {
    "tags": []
   },
   "source": [
    "### Decision Tree"
   ]
  },
  {
   "cell_type": "code",
   "execution_count": null,
   "id": "042c6336-daaa-4dd7-823e-87dba63d344e",
   "metadata": {
    "tags": []
   },
   "outputs": [],
   "source": [
    "test_acc_dt = m.decision_tree(train,validate,test)"
   ]
  },
  {
   "cell_type": "markdown",
   "id": "fadca50d-3805-4321-9b73-2a0f93aaec66",
   "metadata": {},
   "source": [
    "### Random Forest"
   ]
  },
  {
   "cell_type": "code",
   "execution_count": null,
   "id": "a6d60993-85d9-4743-a5bf-8dccd9dc5bbb",
   "metadata": {
    "tags": []
   },
   "outputs": [],
   "source": [
    "test_acc_rf = m.random_forest(train, validate, test)"
   ]
  },
  {
   "cell_type": "markdown",
   "id": "aa4c4622-94d4-4b38-8f80-4ec8c35dd780",
   "metadata": {},
   "source": [
    "### KNN "
   ]
  },
  {
   "cell_type": "code",
   "execution_count": null,
   "id": "82b4818b-e340-46bd-9d02-03494236347a",
   "metadata": {
    "tags": []
   },
   "outputs": [],
   "source": [
    "test_acc_knn = m.knn(train,validate,test)"
   ]
  },
  {
   "cell_type": "markdown",
   "id": "933a5a46-5e39-4279-8470-390fc9bc1c88",
   "metadata": {},
   "source": [
    "### Logistic Regression"
   ]
  },
  {
   "cell_type": "code",
   "execution_count": null,
   "id": "13832d1c-f33c-4475-a280-c88c00a038d2",
   "metadata": {
    "tags": []
   },
   "outputs": [],
   "source": [
    "test_acc_logit = m.logistic_regression(train,validate,test)"
   ]
  },
  {
   "cell_type": "code",
   "execution_count": null,
   "id": "451ffbcb-8cb3-44d3-b258-fd7ff3e504cb",
   "metadata": {},
   "outputs": [],
   "source": []
  }
 ],
 "metadata": {
  "kernelspec": {
   "display_name": "Python 3 (ipykernel)",
   "language": "python",
   "name": "python3"
  },
  "language_info": {
   "codemirror_mode": {
    "name": "ipython",
    "version": 3
   },
   "file_extension": ".py",
   "mimetype": "text/x-python",
   "name": "python",
   "nbconvert_exporter": "python",
   "pygments_lexer": "ipython3",
   "version": "3.11.5"
  }
 },
 "nbformat": 4,
 "nbformat_minor": 5
}
