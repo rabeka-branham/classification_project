{
 "cells": [
  {
   "cell_type": "code",
   "execution_count": 35,
   "id": "f190c533-8906-4450-a414-1520733ec366",
   "metadata": {
    "tags": []
   },
   "outputs": [],
   "source": [
    "import acquire as a\n",
    "import prepare as p\n",
    "import explore as e\n",
    "import model as m\n",
    "\n",
    "import numpy as np\n",
    "import pandas as pd\n",
    "import matplotlib.pyplot as plt\n",
    "import seaborn as sns\n",
    "from scipy import stats"
   ]
  },
  {
   "cell_type": "code",
   "execution_count": 36,
   "id": "11a98d91-a43a-479a-a3ce-e22d46173b90",
   "metadata": {
    "tags": []
   },
   "outputs": [
    {
     "name": "stdout",
     "output_type": "stream",
     "text": [
      "File exists - reading CSV file\n"
     ]
    }
   ],
   "source": [
    "train, validate, test = p.split_data((p.prepare_data(a.acquire_data())),'churn')"
   ]
  },
  {
   "cell_type": "code",
   "execution_count": 37,
   "id": "03f6a3a8-4693-43a3-867f-20e937b5275a",
   "metadata": {
    "tags": []
   },
   "outputs": [
    {
     "data": {
      "text/plain": [
       "21"
      ]
     },
     "execution_count": 37,
     "metadata": {},
     "output_type": "execute_result"
    }
   ],
   "source": [
    "len(train.columns)"
   ]
  },
  {
   "cell_type": "code",
   "execution_count": 38,
   "id": "a51cd722-74b1-4365-92f7-36a28b7ed8c7",
   "metadata": {
    "tags": []
   },
   "outputs": [],
   "source": [
    "cat_cols = train.columns[train.nunique() < 10].drop('churn').tolist()\n",
    "num_cols = train.columns[train.nunique() >= 10].drop('customer_id').tolist()"
   ]
  },
  {
   "cell_type": "code",
   "execution_count": 39,
   "id": "a3842eda-1b97-4fae-b8e5-ac1c1548a869",
   "metadata": {
    "tags": []
   },
   "outputs": [
    {
     "name": "stdout",
     "output_type": "stream",
     "text": [
      "tenure vs churn:\n",
      "The distributions are not normally distributed.\n",
      "\n",
      "monthly_charges vs churn:\n",
      "The distributions are not normally distributed.\n",
      "\n",
      "total_charges vs churn:\n",
      "The distributions are not normally distributed.\n",
      "\n"
     ]
    }
   ],
   "source": [
    "for col in num_cols:\n",
    "    print(f'{col} vs churn:')\n",
    "    α = .05\n",
    "    \n",
    "    t, p = stats.shapiro(train[col])\n",
    "    if p < α:\n",
    "        print('The distributions are not normally distributed.')\n",
    "    else: \n",
    "        print('The distributions are normal.')\n",
    "    print()"
   ]
  },
  {
   "cell_type": "code",
   "execution_count": 40,
   "id": "e047ae53-095e-492e-8bae-f09577110530",
   "metadata": {
    "tags": []
   },
   "outputs": [],
   "source": [
    "cat_cols_w_rel = []\n",
    "cat_cols_wo_rel = []\n",
    "\n",
    "for col in cat_cols:\n",
    "    observed = pd.crosstab(train[col],train.churn)\n",
    "    α = .05\n",
    "    chi2, p, dof, expected = stats.chi2_contingency(observed)\n",
    "    \n",
    "    if p < α:\n",
    "        cat_cols_w_rel.append(col)\n",
    "    else:\n",
    "        cat_cols_wo_rel.append(col)"
   ]
  },
  {
   "cell_type": "code",
   "execution_count": 41,
   "id": "130da5ab-1e02-4eb7-9160-4b86112a8f9d",
   "metadata": {
    "tags": []
   },
   "outputs": [],
   "source": [
    "churned = train[train.churn == 'Yes']\n",
    "active = train[train.churn == 'No']\n",
    "\n",
    "quant_cols_w_rel = []\n",
    "quant_cols_wo_rel = []\n",
    "\n",
    "for col in num_cols:\n",
    "    t,p = stats.mannwhitneyu(churned[col], active[col])\n",
    "    α = .05\n",
    "    \n",
    "    if p < α:\n",
    "        quant_cols_w_rel.append(col)\n",
    "    else:\n",
    "        quant_cols_wo_rel.append(col)"
   ]
  },
  {
   "cell_type": "code",
   "execution_count": 55,
   "id": "265d669c-b874-4a0d-8911-2c396a5d5fef",
   "metadata": {
    "tags": []
   },
   "outputs": [
    {
     "data": {
      "text/plain": [
       "2"
      ]
     },
     "execution_count": 55,
     "metadata": {},
     "output_type": "execute_result"
    }
   ],
   "source": [
    "ct = pd.crosstab(train[col],train.churn,normalize=0)\n",
    "ct.shape[0]"
   ]
  },
  {
   "cell_type": "code",
   "execution_count": 57,
   "id": "0ac0f7e5-d514-4582-af46-c059cf45ff52",
   "metadata": {
    "tags": []
   },
   "outputs": [
    {
     "name": "stdout",
     "output_type": "stream",
     "text": [
      "senior_citizen\n",
      "0\n",
      "-0.18681072357213305\n",
      "1\n",
      "\n",
      "partner\n",
      "0\n",
      "0.13666397070387096\n",
      "1\n",
      "\n",
      "dependents\n",
      "0\n",
      "0.158470544076452\n",
      "1\n",
      "\n",
      "multiple_lines\n",
      "0\n",
      "-0.021471046297607266\n",
      "1\n",
      "-0.026704772563754087\n",
      "2\n",
      "\n",
      "online_security\n",
      "0\n",
      "0.34114476296809787\n",
      "1\n",
      "-0.07421098046098046\n",
      "2\n",
      "\n",
      "online_backup\n",
      "0\n",
      "0.322552536685299\n",
      "1\n",
      "-0.1448298154508901\n",
      "2\n",
      "\n",
      "device_protection\n",
      "0\n",
      "0.3127215815793402\n",
      "1\n",
      "-0.15893287796401984\n",
      "2\n",
      "\n",
      "tech_support\n",
      "0\n",
      "0.34387333715548685\n",
      "1\n",
      "-0.07677668811604718\n",
      "2\n",
      "\n",
      "streaming_tv\n",
      "0\n",
      "0.26093714783122324\n",
      "1\n",
      "-0.22947441106950311\n",
      "2\n",
      "\n",
      "streaming_movies\n",
      "0\n",
      "0.2613351560719982\n",
      "1\n",
      "-0.22904658263774286\n",
      "2\n",
      "\n",
      "paperless_billing\n",
      "0\n",
      "-0.17633589982381187\n",
      "1\n",
      "\n",
      "contract_type\n",
      "0\n",
      "0.31841044522408757\n",
      "1\n",
      "0.08033107696256135\n",
      "2\n",
      "\n",
      "internet_service_type\n",
      "0\n",
      "-0.22784015788053727\n",
      "1\n",
      "0.3454134058885679\n",
      "2\n",
      "\n",
      "payment_type\n",
      "0\n",
      "0.015673662788634413\n",
      "1\n",
      "-0.29750722927834927\n",
      "2\n",
      "0.24007624134171093\n",
      "3\n",
      "\n"
     ]
    }
   ],
   "source": [
    "for col in cat_cols_w_rel:\n",
    "    print(col)\n",
    "    ct = pd.crosstab(train[col],train.churn,normalize=0)\n",
    "    for num in range(ct.shape[0]):\n",
    "        print(num)\n",
    "        if num <= (ct.shape[0])-2:\n",
    "            print((ct.Yes[num]) - (ct.Yes[num+1]))\n",
    "        else:\n",
    "            pass\n",
    "    print()\n",
    "        \n",
    "    # ct."
   ]
  },
  {
   "cell_type": "code",
   "execution_count": null,
   "id": "c71622af-963f-4510-a851-1ef13da8b527",
   "metadata": {
    "tags": []
   },
   "outputs": [],
   "source": [
    "sns.countplot(train)"
   ]
  },
  {
   "cell_type": "code",
   "execution_count": null,
   "id": "fcc8632d-d081-4146-88b9-c1a874c8c6ae",
   "metadata": {},
   "outputs": [],
   "source": []
  }
 ],
 "metadata": {
  "kernelspec": {
   "display_name": "Python 3 (ipykernel)",
   "language": "python",
   "name": "python3"
  },
  "language_info": {
   "codemirror_mode": {
    "name": "ipython",
    "version": 3
   },
   "file_extension": ".py",
   "mimetype": "text/x-python",
   "name": "python",
   "nbconvert_exporter": "python",
   "pygments_lexer": "ipython3",
   "version": "3.11.5"
  }
 },
 "nbformat": 4,
 "nbformat_minor": 5
}
